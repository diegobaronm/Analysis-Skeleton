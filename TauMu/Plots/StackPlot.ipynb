{
 "cells": [
  {
   "cell_type": "code",
   "execution_count": 38,
   "metadata": {},
   "outputs": [
    {
     "data": {
      "text/plain": [
       "0"
      ]
     },
     "execution_count": 38,
     "metadata": {},
     "output_type": "execute_result"
    },
    {
     "name": "stdout",
     "output_type": "stream",
     "text": [
      "hadd Target file: BG.root\n",
      "hadd compression setting for all output: 1\n",
      "hadd Source file 1: VV.root\n",
      "hadd Source file 2: singletop.root\n",
      "hadd Source file 3: Wjets.root\n",
      "hadd Source file 4: ttbar.root\n",
      "hadd Source file 5: Zjet.root\n",
      "hadd Target path: BG.root:/\n",
      "hadd Target file: MC.root\n",
      "hadd compression setting for all output: 1\n",
      "hadd Source file 1: BG.root\n",
      "hadd Source file 2: Ztautau_MG.root\n",
      "hadd Target path: MC.root:/\n"
     ]
    }
   ],
   "source": [
    "import os\n",
    "import ROOT\n",
    "##### SELECTING GENERATOR FOR SIGNAL SAMPLE\n",
    "signal_sample=\"Ztautau_MG.root\"\n",
    "post_fit = False\n",
    "if not post_fit:\n",
    "    fit_scale = 1.0\n",
    "    type_of_mc = '_PreFit'\n",
    "else :\n",
    "    fit_scale = 1.074\n",
    "    type_of_mc = '_PosFit'\n",
    "\n",
    "#### CREATING THE CORRESPONDING MC.ROOT FILE EVERYTIME YOU CHANGE THE SIGNAL SAMPLE\n",
    "\n",
    "os.system(\"rm BG.root MC.root\")\n",
    "os.system('hadd BG.root VV.root singletop.root Wjets.root ttbar.root Zjet.root')\n",
    "os.system(\"hadd MC.root \"+\"BG.root \"+signal_sample)"
   ]
  },
  {
   "cell_type": "code",
   "execution_count": 39,
   "metadata": {},
   "outputs": [],
   "source": [
    "#### HISTOGRAMS FOR PLOTTING\n",
    "\n",
    "histos_no_rebin={\n",
    "\"lepiso\":[],\n",
    "}\n",
    "histos_rebin={\n",
    "\"delta_phi\":[[2.0],[0.2,0.8],0.2],\n",
    "\"reco_mass\":[[70,110,140],[10,5,10,20],5],\n",
    "}\n",
    "    \n",
    "histos={}\n",
    "histos.update(histos_no_rebin)\n",
    "histos.update(histos_rebin)"
   ]
  },
  {
   "cell_type": "code",
   "execution_count": 40,
   "metadata": {},
   "outputs": [
    {
     "name": "stdout",
     "output_type": "stream",
     "text": [
      "lepiso\n",
      "delta_phi\n",
      "0.0\n",
      "3.2\n",
      "[0.  0.2 0.4 0.6 0.8 1.  1.2 1.4 1.6 1.8 2.  3.2]\n",
      "reco_mass\n",
      "0.0\n",
      "240.0\n",
      "[  0.  10.  20.  30.  40.  50.  60.  70.  75.  80.  85.  90.  95. 100.\n",
      " 105. 110. 120. 130. 140. 160. 180. 200. 220. 240.]\n"
     ]
    },
    {
     "name": "stderr",
     "output_type": "stream",
     "text": [
      "Info in <TCanvas::Print>: pdf file lepiso__PreFit.pdf has been created\n",
      "Warning in <TCanvas::Constructor>: Deleting canvas with same name: canvas2\n",
      "Info in <TCanvas::Print>: pdf file delta_phi__PreFit.pdf has been created\n",
      "Warning in <TCanvas::Constructor>: Deleting canvas with same name: canvas2\n",
      "Info in <TCanvas::Print>: pdf file reco_mass__PreFit.pdf has been created\n"
     ]
    }
   ],
   "source": [
    "Data = {\"Data\":[\"Data.root\",ROOT.kBlack,0]}   \n",
    "Signal = {\"Signal\":[signal_sample,ROOT.kOrange+7,0]} \n",
    "Background = {\"Higgs\":[\"Higgs.root\",ROOT.kRed,0],\"Zjets\":[\"Zjet.root\",ROOT.kViolet,0],\"Wjets\":[\"Wjets.root\",ROOT.kGreen,0],\"ttbar\":[\"ttbar.root\",ROOT.kYellow,0],\"VV\":[\"VV.root\",ROOT.kBlue,0],\"SingleTop\":[\"singletop.root\",ROOT.kCyan,0]}\n",
    "\n",
    "\n",
    "%run \"../../Scripts/Plotter.ipynb\"\n",
    "\n",
    "Plot(Data,Signal,Background,histos,type_of_mc,fit_scale,after_fit=post_fit,final_state=\"Z#rightarrow #tau#tau\")"
   ]
  },
  {
   "cell_type": "code",
   "execution_count": null,
   "metadata": {},
   "outputs": [],
   "source": []
  }
 ],
 "metadata": {
  "interpreter": {
   "hash": "916dbcbb3f70747c44a77c7bcd40155683ae19c65e1c03b4aa3499c5328201f1"
  },
  "kernelspec": {
   "display_name": "Python 3 (ipykernel)",
   "language": "python",
   "name": "python3"
  },
  "language_info": {
   "codemirror_mode": {
    "name": "ipython",
    "version": 3
   },
   "file_extension": ".py",
   "mimetype": "text/x-python",
   "name": "python",
   "nbconvert_exporter": "python",
   "pygments_lexer": "ipython3",
   "version": "3.10.4"
  }
 },
 "nbformat": 4,
 "nbformat_minor": 4
}
